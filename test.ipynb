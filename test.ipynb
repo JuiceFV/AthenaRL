{
 "cells": [
  {
   "cell_type": "code",
   "execution_count": 2,
   "metadata": {},
   "outputs": [],
   "source": [
    "import os\n",
    "import unittest\n",
    "import abc\n",
    "\n",
    "from typing import Any\n",
    "from source.core.dataclasses import field, dataclass\n",
    "from source.core.confg import create_config_class, resolve_defaults\n",
    "from source.core.registry import RegistryMeta\n",
    "from source.core.discriminated_union import DiscriminatedUnion"
   ]
  },
  {
   "cell_type": "code",
   "execution_count": 31,
   "metadata": {},
   "outputs": [],
   "source": [
    "import os\n",
    "import unittest\n",
    "import abc\n",
    "\n",
    "from typing import Any\n",
    "from source.core.dataclasses import field, dataclass\n",
    "from source.core.confg import create_config_class, resolve_defaults\n",
    "from source.core.registry import RegistryMeta\n",
    "from source.core.discriminated_union import DiscriminatedUnion\n",
    "\n",
    "\n",
    "class AB:\n",
    "    @resolve_defaults\n",
    "    def __init__(\n",
    "        self, a: int = 1, b: int = field(default_factory=lambda: 2)\n",
    "    ) -> None:\n",
    "        self.a = a\n",
    "        self.b = b\n",
    "\n",
    "    def __call__(self) -> int:\n",
    "        return self.a + self.b\n",
    "\n",
    "@create_config_class(AB.__init__)\n",
    "class ABConfigClass:\n",
    "    pass\n",
    "\n",
    "class FooRegistry(metaclass=RegistryMeta):\n",
    "    @abc.abstractmethod\n",
    "    def foo(self) -> int:\n",
    "        pass\n",
    "\n",
    "\n",
    "@dataclass\n",
    "class Foo(FooRegistry):\n",
    "    ab_cfg: ABConfigClass = field(default_factory=ABConfigClass)\n",
    "\n",
    "    def foo(self):\n",
    "        ab = AB(**self.ab_cfg.asdict())\n",
    "        return ab()\n",
    "\n",
    "@dataclass\n",
    "class Bar(FooRegistry):\n",
    "    def foo(self) -> int:\n",
    "        return 10\n",
    "\n",
    "\n",
    "@FooRegistry.register()\n",
    "class FooRoster(DiscriminatedUnion):\n",
    "    pass\n"
   ]
  },
  {
   "cell_type": "code",
   "execution_count": 3,
   "metadata": {},
   "outputs": [],
   "source": [
    "import os\n",
    "import unittest\n",
    "import abc\n",
    "\n",
    "from typing import Any\n",
    "from source.core.dataclasses import field, dataclass\n",
    "from source.core.confg import create_config_class, resolve_defaults\n",
    "from source.core.registry import RegistryMeta\n",
    "from source.core.discriminated_union import DiscriminatedUnion\n",
    "\n",
    "\n",
    "@dataclass\n",
    "class MM:\n",
    "    def __post_init_post_parse__(self):\n",
    "        pass\n",
    "# @dataclass\n",
    "# class FM(ModelRegistry):\n",
    "#     a: int = 1\n",
    "\n",
    "@dataclass\n",
    "class s2s_base(MM):\n",
    "    def __post_init_post_parse__(self):\n",
    "        super().__post_init_post_parse__()\n",
    "\n",
    "@dataclass\n",
    "class s2s(s2s_base, ModelRegistry):\n",
    "    a: int\n",
    "    def __post_init_post_parse__(self):\n",
    "        super().__post_init_post_parse__()\n",
    "\n",
    "@ModelRegistry.register()\n",
    "class ModelRoster(DiscriminatedUnion):\n",
    "    pass"
   ]
  },
  {
   "cell_type": "code",
   "execution_count": 4,
   "metadata": {},
   "outputs": [
    {
     "data": {
      "text/plain": [
       "'{\"title\": \"ModelRoster\", \"type\": \"object\", \"properties\": {\"s2s\": {\"$ref\": \"#/definitions/s2s\"}}, \"definitions\": {\"s2s\": {\"title\": \"s2s\", \"type\": \"object\", \"properties\": {\"a\": {\"title\": \"A\", \"type\": \"integer\"}}, \"required\": [\"a\"]}}}'"
      ]
     },
     "execution_count": 4,
     "metadata": {},
     "output_type": "execute_result"
    }
   ],
   "source": [
    "ModelRoster.__pydantic_model__.schema_json()"
   ]
  },
  {
   "cell_type": "code",
   "execution_count": 6,
   "metadata": {},
   "outputs": [
    {
     "data": {
      "text/plain": [
       "s2s(a=12)"
      ]
     },
     "execution_count": 6,
     "metadata": {},
     "output_type": "execute_result"
    }
   ],
   "source": [
    "ModelRoster(s2s=s2s(12)).value"
   ]
  },
  {
   "cell_type": "code",
   "execution_count": 34,
   "metadata": {},
   "outputs": [
    {
     "data": {
      "text/plain": [
       "'ABConfigClass(a=1, b=2)'"
      ]
     },
     "execution_count": 34,
     "metadata": {},
     "output_type": "execute_result"
    }
   ],
   "source": [
    "ABConfigClass().__repr__()"
   ]
  },
  {
   "cell_type": "code",
   "execution_count": 23,
   "metadata": {},
   "outputs": [],
   "source": [
    "foo = Foo()"
   ]
  },
  {
   "cell_type": "code",
   "execution_count": 24,
   "metadata": {},
   "outputs": [
    {
     "data": {
      "text/plain": [
       "{'Foo': __main__.Foo, 'Bar': __main__.Bar}"
      ]
     },
     "execution_count": 24,
     "metadata": {},
     "output_type": "execute_result"
    }
   ],
   "source": [
    "foo.REGISTRY"
   ]
  },
  {
   "cell_type": "code",
   "execution_count": 30,
   "metadata": {},
   "outputs": [
    {
     "ename": "TypeError",
     "evalue": "'type' object is not subscriptable",
     "output_type": "error",
     "traceback": [
      "\u001b[0;31m---------------------------------------------------------------------------\u001b[0m",
      "\u001b[0;31mTypeError\u001b[0m                                 Traceback (most recent call last)",
      "\u001b[0;32m<ipython-input-30-f22bf0a0ec57>\u001b[0m in \u001b[0;36m<module>\u001b[0;34m\u001b[0m\n\u001b[0;32m----> 1\u001b[0;31m \u001b[0mFooRoster\u001b[0m\u001b[0;34m[\u001b[0m\u001b[0;34m'Foo'\u001b[0m\u001b[0;34m]\u001b[0m\u001b[0;34m\u001b[0m\u001b[0;34m\u001b[0m\u001b[0m\n\u001b[0m",
      "\u001b[0;31mTypeError\u001b[0m: 'type' object is not subscriptable"
     ]
    }
   ],
   "source": [
    "FooRoster()"
   ]
  },
  {
   "cell_type": "code",
   "execution_count": 11,
   "metadata": {},
   "outputs": [
    {
     "data": {
      "text/plain": [
       "6"
      ]
     },
     "execution_count": 11,
     "metadata": {},
     "output_type": "execute_result"
    }
   ],
   "source": [
    "ab()"
   ]
  },
  {
   "cell_type": "code",
   "execution_count": 2,
   "metadata": {},
   "outputs": [],
   "source": [
    "def test_func(a:int, b:bool, c: float = 3.5):\n",
    "    pass"
   ]
  },
  {
   "cell_type": "code",
   "execution_count": 4,
   "metadata": {},
   "outputs": [],
   "source": [
    "def get_config_class():\n",
    "    @create_config_class(test_func)\n",
    "    class ConfigClass:\n",
    "        pass\n",
    "    return ConfigClass"
   ]
  },
  {
   "cell_type": "code",
   "execution_count": 5,
   "metadata": {},
   "outputs": [],
   "source": [
    "cfg_class = get_config_class()"
   ]
  },
  {
   "cell_type": "code",
   "execution_count": 14,
   "metadata": {},
   "outputs": [
    {
     "ename": "AttributeError",
     "evalue": "type object 'ConfigClass' has no attribute 'a'",
     "output_type": "error",
     "traceback": [
      "\u001b[0;31m---------------------------------------------------------------------------\u001b[0m",
      "\u001b[0;31mAttributeError\u001b[0m                            Traceback (most recent call last)",
      "\u001b[0;32m<ipython-input-14-fd81339dcb9b>\u001b[0m in \u001b[0;36m<module>\u001b[0;34m\u001b[0m\n\u001b[0;32m----> 1\u001b[0;31m \u001b[0mcfg_class\u001b[0m\u001b[0;34m.\u001b[0m\u001b[0ma\u001b[0m\u001b[0;34m\u001b[0m\u001b[0;34m\u001b[0m\u001b[0m\n\u001b[0m",
      "\u001b[0;31mAttributeError\u001b[0m: type object 'ConfigClass' has no attribute 'a'"
     ]
    }
   ],
   "source": [
    "cfg_class.a"
   ]
  },
  {
   "cell_type": "code",
   "execution_count": 7,
   "metadata": {},
   "outputs": [
    {
     "data": {
      "text/plain": [
       "'{\"title\": \"ConfigClass\", \"type\": \"object\", \"properties\": {\"a\": {\"title\": \"A\", \"type\": \"integer\"}, \"b\": {\"title\": \"B\", \"type\": \"boolean\"}, \"c\": {\"title\": \"C\", \"default\": 3.5, \"type\": \"number\"}}, \"required\": [\"a\", \"b\"]}'"
      ]
     },
     "execution_count": 7,
     "metadata": {},
     "output_type": "execute_result"
    }
   ],
   "source": [
    "cfg_class.__pydantic_model__.schema_json()"
   ]
  }
 ],
 "metadata": {
  "interpreter": {
   "hash": "30295c5bec572e859485b1ffa5e89b8b3e2022ef6e3e739c1ac40f143a557caf"
  },
  "kernelspec": {
   "display_name": "Python 3.6.13 64-bit",
   "language": "python",
   "name": "python3"
  },
  "language_info": {
   "codemirror_mode": {
    "name": "ipython",
    "version": 3
   },
   "file_extension": ".py",
   "mimetype": "text/x-python",
   "name": "python",
   "nbconvert_exporter": "python",
   "pygments_lexer": "ipython3",
   "version": "3.6.13"
  },
  "orig_nbformat": 4
 },
 "nbformat": 4,
 "nbformat_minor": 2
}
